{
 "cells": [
  {
   "cell_type": "markdown",
   "metadata": {},
   "source": [
    "# XGBoost for classification \n"
   ]
  },
  {
   "cell_type": "markdown",
   "metadata": {},
   "source": [
    "those pre-processing copied from KNN project<br>\n",
    "pip install xgboost<br>\n",
    "ref :https://machinelearningmastery.com/develop-first-xgboost-model-python-scikit-learn/ <br>\n",
    "\n"
   ]
  },
  {
   "cell_type": "code",
   "execution_count": 6,
   "metadata": {},
   "outputs": [
    {
     "name": "stdout",
     "output_type": "stream",
     "text": [
      "<class 'sklearn.utils.Bunch'>\n",
      "<class 'pandas.core.frame.DataFrame'>\n",
      "RangeIndex: 569 entries, 0 to 568\n",
      "Data columns (total 30 columns):\n",
      " #   Column                   Non-Null Count  Dtype  \n",
      "---  ------                   --------------  -----  \n",
      " 0   mean radius              569 non-null    float64\n",
      " 1   mean texture             569 non-null    float64\n",
      " 2   mean perimeter           569 non-null    float64\n",
      " 3   mean area                569 non-null    float64\n",
      " 4   mean smoothness          569 non-null    float64\n",
      " 5   mean compactness         569 non-null    float64\n",
      " 6   mean concavity           569 non-null    float64\n",
      " 7   mean concave points      569 non-null    float64\n",
      " 8   mean symmetry            569 non-null    float64\n",
      " 9   mean fractal dimension   569 non-null    float64\n",
      " 10  radius error             569 non-null    float64\n",
      " 11  texture error            569 non-null    float64\n",
      " 12  perimeter error          569 non-null    float64\n",
      " 13  area error               569 non-null    float64\n",
      " 14  smoothness error         569 non-null    float64\n",
      " 15  compactness error        569 non-null    float64\n",
      " 16  concavity error          569 non-null    float64\n",
      " 17  concave points error     569 non-null    float64\n",
      " 18  symmetry error           569 non-null    float64\n",
      " 19  fractal dimension error  569 non-null    float64\n",
      " 20  worst radius             569 non-null    float64\n",
      " 21  worst texture            569 non-null    float64\n",
      " 22  worst perimeter          569 non-null    float64\n",
      " 23  worst area               569 non-null    float64\n",
      " 24  worst smoothness         569 non-null    float64\n",
      " 25  worst compactness        569 non-null    float64\n",
      " 26  worst concavity          569 non-null    float64\n",
      " 27  worst concave points     569 non-null    float64\n",
      " 28  worst symmetry           569 non-null    float64\n",
      " 29  worst fractal dimension  569 non-null    float64\n",
      "dtypes: float64(30)\n",
      "memory usage: 133.5 KB\n"
     ]
    }
   ],
   "source": [
    "import pandas as pd\n",
    "import seaborn as sns\n",
    "import matplotlib.pyplot as plt\n",
    "import numpy as np\n",
    "from sklearn.datasets import load_breast_cancer\n",
    "\n",
    "%matplotlib inline\n",
    "\n",
    "cancer = load_breast_cancer()\n",
    "print(type(cancer))\n",
    "df_feat = pd.DataFrame(cancer['data'],columns=cancer['feature_names'])\n",
    "df_feat.info()\n",
    "df_target = pd.DataFrame(cancer['target'],columns=['Cancer'])\n",
    "\n",
    "from sklearn.preprocessing import StandardScaler\n",
    "scaler = StandardScaler()\n",
    "scaled_feat = scaler.fit_transform(df_feat) # this output is ndarray => need convert it to df again\n",
    "df_feat = pd.DataFrame(scaled_feat,columns=df_feat.columns)\n",
    "\n",
    "\n",
    "from sklearn.model_selection import train_test_split\n",
    "X_train, X_test, y_train, y_test = train_test_split(df_feat,df_target['Cancer'],\n",
    "                                                    test_size=0.30)\n",
    "\n"
   ]
  },
  {
   "cell_type": "code",
   "execution_count": 8,
   "metadata": {},
   "outputs": [
    {
     "name": "stdout",
     "output_type": "stream",
     "text": [
      "Accuracy: 93.57%\n"
     ]
    }
   ],
   "source": [
    "from xgboost import XGBClassifier\n",
    "from sklearn.metrics import accuracy_score\n",
    "model = XGBClassifier()\n",
    "model.fit(X_train, y_train)\n",
    "\n",
    "# make predictions for test data\n",
    "y_pred = model.predict(X_test)\n",
    "\n",
    "predictions = [round(value) for value in y_pred]\n",
    "# evaluate predictions\n",
    "\n",
    "accuracy = accuracy_score(y_test, predictions)\n",
    "print(\"Accuracy: %.2f%%\" % (accuracy * 100.0))"
   ]
  },
  {
   "cell_type": "code",
   "execution_count": 11,
   "metadata": {},
   "outputs": [
    {
     "data": {
      "text/plain": [
       "array([ 7.36463666e-01,  9.97444570e-01, -7.54797831e-04,  9.97611046e-01,\n",
       "       -9.78941657e-03,  9.96961534e-01,  9.95970905e-01,  9.95592475e-01,\n",
       "        1.00257766e+00,  9.98228848e-01,  9.87031221e-01,  5.81903696e-01,\n",
       "        9.93306875e-01,  2.93348625e-04,  1.00004363e+00,  9.99472916e-01,\n",
       "        9.95518684e-01,  3.34681652e-04, -1.83927047e-03, -9.62054357e-04,\n",
       "        8.14713895e-01,  1.01080751e+00,  1.00005794e+00,  9.99513447e-01,\n",
       "        4.28980291e-01,  9.70780373e-01, -5.75353950e-03,  7.49859537e-05,\n",
       "        1.00009763e+00,  1.00041199e+00, -4.18900658e-04,  9.26229358e-01,\n",
       "        1.00009823e+00,  9.90031719e-01, -1.13452625e-04,  1.01464379e+00,\n",
       "        9.97546971e-01,  4.21031088e-01, -3.80350207e-03,  9.98898625e-01,\n",
       "        9.36047256e-01,  1.88715801e-01,  1.00049424e+00, -4.92157822e-04,\n",
       "       -1.09252089e-03,  9.61599648e-01,  9.95962083e-01,  9.49099362e-01,\n",
       "       -2.33539310e-03, -1.04153145e-03, -5.21249487e-04, -1.99301448e-03,\n",
       "        9.99934077e-01,  1.85117632e-01,  9.90039825e-01,  9.22503974e-03,\n",
       "        1.00093830e+00,  9.98764098e-01,  9.99889493e-01,  1.00242341e+00,\n",
       "        1.86375319e-03,  9.99323785e-01,  8.17941189e-01, -3.14518507e-03,\n",
       "        4.88999814e-01, -6.04377734e-03,  1.00058031e+00,  1.00208569e+00,\n",
       "       -1.78735331e-03,  9.97253895e-01,  9.90960717e-01,  3.58774763e-04,\n",
       "        6.20552659e-01,  3.80028516e-01,  8.20238711e-05,  9.93045032e-01,\n",
       "        9.97671485e-01,  9.99971986e-01,  9.99891579e-01,  9.99711871e-01,\n",
       "       -1.86305903e-02,  9.73534703e-01,  1.00182080e+00, -5.70476928e-04,\n",
       "        3.36049050e-01,  9.42488194e-01, -8.44358874e-04,  1.35927589e-03,\n",
       "       -2.27387226e-03,  9.97578502e-01,  9.99377251e-01,  1.00043774e+00,\n",
       "       -2.16149390e-04,  9.99631107e-01,  9.98385966e-01,  9.86194909e-01,\n",
       "        1.00254238e+00,  1.01031399e+00,  9.98974681e-01,  3.20451893e-02,\n",
       "        1.01295590e+00,  9.68476176e-01,  4.49085683e-02,  9.86078262e-01,\n",
       "        9.99208987e-01, -2.00277660e-02,  1.00009465e+00,  9.83551323e-01,\n",
       "        1.24211855e-01,  8.80200803e-01, -4.71190666e-04,  7.72821426e-01,\n",
       "        9.99522209e-01,  8.49320173e-01,  7.26219325e-04,  7.35986652e-03,\n",
       "        9.98227119e-01,  9.98590231e-01,  1.00514519e+00,  9.98359203e-01,\n",
       "        2.11349121e-04,  1.00041139e+00,  9.91425276e-01,  1.00099039e+00,\n",
       "        9.92939413e-01,  1.00684834e+00, -1.08014215e-02, -4.90203919e-03,\n",
       "        9.98607725e-02, -4.70152348e-02,  4.19541914e-03,  9.53806996e-01,\n",
       "       -8.71808617e-04,  4.85996842e-01, -6.53791707e-04,  9.13845897e-01,\n",
       "        3.69879752e-01,  1.00328958e+00,  2.28300728e-02,  3.16923746e-04,\n",
       "        1.08353257e-01,  9.97115910e-01,  1.00353312e+00,  9.63465035e-01,\n",
       "        8.32947910e-01,  8.21880603e-05, -1.14422245e-02,  1.00080371e+00,\n",
       "       -2.57170130e-03, -8.17806213e-05, -2.01882189e-03,  9.99868214e-01,\n",
       "        8.39330077e-01, -2.29649409e-03,  5.32242358e-01,  1.00100017e+00,\n",
       "        4.94172387e-02,  9.99326527e-01,  9.08360362e-01,  1.00439095e+00,\n",
       "        9.26079631e-01,  8.36865127e-01, -1.11823687e-02,  6.65338635e-01,\n",
       "        3.23331535e-01,  9.99935806e-01,  4.58190544e-03,  9.98863935e-01,\n",
       "        1.00268388e+00,  6.91072524e-01,  9.99186575e-01], dtype=float32)"
      ]
     },
     "execution_count": 11,
     "metadata": {},
     "output_type": "execute_result"
    }
   ],
   "source": []
  },
  {
   "cell_type": "code",
   "execution_count": null,
   "metadata": {},
   "outputs": [],
   "source": []
  }
 ],
 "metadata": {
  "kernelspec": {
   "display_name": "Python 3",
   "language": "python",
   "name": "python3"
  },
  "language_info": {
   "codemirror_mode": {
    "name": "ipython",
    "version": 3
   },
   "file_extension": ".py",
   "mimetype": "text/x-python",
   "name": "python",
   "nbconvert_exporter": "python",
   "pygments_lexer": "ipython3",
   "version": "3.8.3"
  }
 },
 "nbformat": 4,
 "nbformat_minor": 4
}
