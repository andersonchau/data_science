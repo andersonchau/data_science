{
 "cells": [
  {
   "cell_type": "code",
   "execution_count": 10,
   "metadata": {},
   "outputs": [],
   "source": [
    "#https://github.com/shidenggui/easyquotation\n",
    "import easyquotation\n",
    "import pandas as pd\n",
    "# this the full list:\n",
    "fullHKStockDictionary = {\n",
    "    '中芯':'00981',\n",
    "    '匯豐':'00005',\n",
    "    '中移動':'00941'\n",
    "}\n",
    "\n",
    "\n",
    "def getStockCodeListByNameList(nameList) :\n",
    "    codeList = []\n",
    "    for name in nameList:\n",
    "        codeList.append(fullHKStockDictionary[name]);\n",
    "    return codeList\n"
   ]
  },
  {
   "cell_type": "code",
   "execution_count": 11,
   "metadata": {},
   "outputs": [],
   "source": [
    "# Report Configuration Section : \n",
    "# List to watch \n",
    "interestList = ['中芯']\n",
    "\n",
    "# show N-day low \n",
    "bShowNDaysLow = True\n",
    "# When the stock of last day drop below 0.2 of (max-min), triggered\n",
    "percentLow= 0.2\n",
    "nDaysLowUseHowManyDays=5; \n",
    "\n",
    "\n"
   ]
  },
  {
   "cell_type": "code",
   "execution_count": 34,
   "metadata": {},
   "outputs": [
    {
     "name": "stdout",
     "output_type": "stream",
     "text": [
      "Stock code : 00981 has dropped at percent  0.09677419354838734  for the last  5  days \n"
     ]
    }
   ],
   "source": [
    "# To check whether a particular stock is N日低\n",
    "stockCodeList = getStockCodeListByNameList(interestList)\n",
    "\n",
    "quotation = easyquotation.use(\"daykline\")\n",
    "historyData = quotation.real(stockCodeList)\n",
    "#print((historyData['00981']))\n",
    "# [日期, 今开, 今收, 最高, 最低, 成交量 ]\n",
    "\n",
    "df = pd.DataFrame(historyData['00981'], columns = ['date', 'startValue','endValue','highest','lowest','traxAmt',\n",
    "                                  'dk1','dk2','dk3']);\n",
    "highestOfNDays = df[0-nDaysLowUseHowManyDays:]['highest'].max()\n",
    "lowestOfNDays = df[0-nDaysLowUseHowManyDays:]['lowest'].min();\n",
    "lastEndValue = df[-1:]['endValue'].min();\n",
    "#type(highestOfNDays)\n",
    "#type(lowestOfNDays)\n",
    "#type(lastEndValue)\n",
    "percent = (float(lastEndValue) - float(lowestOfNDays)) / (float(highestOfNDays) - float(lowestOfNDays));\n",
    "if percent <= percentLow :\n",
    "    print('Stock code : 00981 has dropped at percent ' , percent , ' for the last ' ,  nDaysLowUseHowManyDays , ' days ')"
   ]
  },
  {
   "cell_type": "code",
   "execution_count": null,
   "metadata": {},
   "outputs": [],
   "source": []
  },
  {
   "cell_type": "code",
   "execution_count": null,
   "metadata": {},
   "outputs": [],
   "source": []
  }
 ],
 "metadata": {
  "kernelspec": {
   "display_name": "Python 3",
   "language": "python",
   "name": "python3"
  },
  "language_info": {
   "codemirror_mode": {
    "name": "ipython",
    "version": 3
   },
   "file_extension": ".py",
   "mimetype": "text/x-python",
   "name": "python",
   "nbconvert_exporter": "python",
   "pygments_lexer": "ipython3",
   "version": "3.8.3"
  }
 },
 "nbformat": 4,
 "nbformat_minor": 4
}
