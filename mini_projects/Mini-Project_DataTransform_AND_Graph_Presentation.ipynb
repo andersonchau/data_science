{
 "cells": [
  {
   "cell_type": "markdown",
   "metadata": {},
   "source": [
    "Simple self test exercise : <br>\n",
    "(1) data cleaning <br>\n",
    "(2) data transformation <br>\n",
    "(3) chart plotting ( line chart ) <br>"
   ]
  },
  {
   "cell_type": "code",
   "execution_count": 37,
   "metadata": {},
   "outputs": [],
   "source": [
    "import datetime as dt\n",
    "import pandas as pd\n",
    "import numpy as np\n",
    "from datetime import datetime\n",
    "import matplotlib.pyplot as plt\n",
    "pd.options.mode.chained_assignment = None\n",
    "# the first data is wrong , for now , we just detect and drop it        \n",
    "df = pd.DataFrame({'date': ['00-01-2020','15-02-2020','02-01-2020','03-03-2020','04-04-2020','05-05-2020','06-06-2020','07-07-2020','08-08-2020','01-01-2021','09-09-2021','11-11-2021','12-12-2021'], \n",
    "'count': [10,10,1,4,5,6,12,34,11,2,1,12,22]})\n"
   ]
  },
  {
   "cell_type": "code",
   "execution_count": 38,
   "metadata": {},
   "outputs": [
    {
     "name": "stdout",
     "output_type": "stream",
     "text": [
      "          date  count\n",
      "1   15-02-2020     10\n",
      "2   02-01-2020      1\n",
      "3   03-03-2020      4\n",
      "4   04-04-2020      5\n",
      "5   05-05-2020      6\n",
      "6   06-06-2020     12\n",
      "7   07-07-2020     34\n",
      "8   08-08-2020     11\n",
      "9   01-01-2021      2\n",
      "10  09-09-2021      1\n",
      "11  11-11-2021     12\n",
      "12  12-12-2021     22\n"
     ]
    }
   ],
   "source": [
    "# STEP I : Data Cleaning \n",
    "def isDateFieldValidSimple(dateStr):\n",
    "    try:\n",
    "        date_object = datetime.strptime(dateStr, '%d-%m-%Y')\n",
    "        #print(\"This is the correct date string format.\")\n",
    "        return True\n",
    "    except ValueError:\n",
    "        #print(\"This is the incorrect date string format:\",dateStr)\n",
    "        return False;\n",
    "    \n",
    "def isDateFieldValidSimple2(row):\n",
    "    try:\n",
    "        date_object = datetime.strptime(row['date'], '%d-%m-%Y')\n",
    "        #print(\"This is the correct date string format.\")\n",
    "        return 0\n",
    "    except ValueError:\n",
    "        #print(\"This is the incorrect date string format:\",dateStr)\n",
    "        return 1\n",
    "\n",
    "dfCleaned = df[df['date'].apply(isDateFieldValidSimple) == True];\n",
    "#or df[df.apply(isDateFieldValidSimple2, axis=1)==0]\n",
    "\n",
    "print(dfCleaned)\n",
    "\n"
   ]
  },
  {
   "cell_type": "code",
   "execution_count": 39,
   "metadata": {},
   "outputs": [
    {
     "name": "stdout",
     "output_type": "stream",
     "text": [
      "----------------------------------------------------------------------------------------\n",
      "          date  count  year  month monthStr\n",
      "1   15-02-2020     10  2020      2      Feb\n",
      "2   02-01-2020      1  2020      1      Jan\n",
      "3   03-03-2020      4  2020      3      Mar\n",
      "4   04-04-2020      5  2020      4      Apr\n",
      "5   05-05-2020      6  2020      5      May\n",
      "6   06-06-2020     12  2020      6      Jun\n",
      "7   07-07-2020     34  2020      7      Jul\n",
      "8   08-08-2020     11  2020      8      Aug\n",
      "9   01-01-2021      2  2021      1      Jan\n",
      "10  09-09-2021      1  2021      9      Sep\n",
      "11  11-11-2021     12  2021     11      Nov\n",
      "12  12-12-2021     22  2021     12      Dec\n",
      "----------------------------------------------------------------------------------------\n"
     ]
    }
   ],
   "source": [
    "# STEP II , Data transform , assign year and month and monthString column\n",
    "def convertDateStrToYear(dateStr):\n",
    "    date_object = datetime.strptime(dateStr, '%d-%m-%Y')\n",
    "    return date_object.year\n",
    "\n",
    "def convertDateStrToMonthDigit(dateStr):\n",
    "    date_object = datetime.strptime(dateStr, '%d-%m-%Y')\n",
    "    return date_object.month\n",
    "\n",
    "\n",
    "def convertDateStrToMonthStr(dateStr):\n",
    "    date_object = datetime.strptime(dateStr, '%d-%m-%Y')\n",
    "    m = date_object.month\n",
    "    if m == 1: \n",
    "        return 'Jan'\n",
    "    elif m == 2: \n",
    "        return 'Feb'\n",
    "    elif m == 3: \n",
    "        return 'Mar'\n",
    "    elif m == 4: \n",
    "        return 'Apr'\n",
    "    elif m == 5: \n",
    "        return 'May'\n",
    "    elif m == 6: \n",
    "        return 'Jun'\n",
    "    elif m == 7: \n",
    "        return 'Jul'\n",
    "    elif m == 8: \n",
    "        return 'Aug'\n",
    "    elif m == 9: \n",
    "        return 'Sep'\n",
    "    elif m == 10: \n",
    "        return 'Oct'\n",
    "    elif m == 11: \n",
    "        return 'Nov'\n",
    "    else: \n",
    "        return 'Dec'\n",
    "\n",
    "dfCleaned['year'] = dfCleaned['date'].apply(convertDateStrToYear)\n",
    "dfCleaned['month'] = dfCleaned['date'].apply(convertDateStrToMonthDigit)\n",
    "dfCleaned['monthStr'] = dfCleaned['date'].apply(convertDateStrToMonthStr)\n",
    "print('----------------------------------------------------------------------------------------')\n",
    "print(dfCleaned)\n",
    "print('----------------------------------------------------------------------------------------')"
   ]
  },
  {
   "cell_type": "code",
   "execution_count": 40,
   "metadata": {},
   "outputs": [
    {
     "name": "stdout",
     "output_type": "stream",
     "text": [
      "  monthStr  mySum  month\n",
      "1      Feb     10      2\n",
      "2      Jan      1      1\n",
      "3      Mar      4      3\n",
      "4      Apr      5      4\n",
      "5      May      6      5\n",
      "6      Jun     12      6\n",
      "7      Jul     34      7\n",
      "8      Aug     11      8\n"
     ]
    }
   ],
   "source": [
    "\n",
    "\n",
    "#dfYear2020 =  dfCleaned[(dfCleaned[\"year\"] == 2020) ]\n",
    "#dfYear2021 =  dfCleaned[(dfCleaned[\"year\"] == 2021) ]\n",
    "#print(dfYear2020)\n",
    "\n",
    "# Create a new column which is the sum count according to year-month \n",
    "\n",
    "dfCleaned['mySum'] = dfCleaned.groupby(['year','monthStr'])['count'].transform('sum')\n",
    "# we just want data of 2020 for now \n",
    "dfYear2020 =  dfCleaned[(dfCleaned[\"year\"] == 2020) ]\n",
    "dfYear2021 =  dfCleaned[(dfCleaned[\"year\"] == 2021) ]\n",
    "# drop duplicate data of same month\n",
    "dfYear2020.drop_duplicates(subset = [\"month\"])\n",
    "dfYear2021.drop_duplicates(subset = [\"month\"])\n",
    "# dfYear2020.sort_values(by=['month'], inplace=True), wait until last step\n",
    "\n",
    "dfYear2020TrimmedRow = dfYear2020[['monthStr','mySum','month']]\n",
    "dfYear2021TrimmedRow = dfYear2021[['monthStr','mySum','month']]\n",
    "print(dfYear2020TrimmedRow);"
   ]
  },
  {
   "cell_type": "code",
   "execution_count": 41,
   "metadata": {},
   "outputs": [
    {
     "name": "stdout",
     "output_type": "stream",
     "text": [
      "2020 data is \n",
      "   monthStr  mySum  month\n",
      "1       Jan      1      1\n",
      "0       Feb     10      2\n",
      "2       Mar      4      3\n",
      "3       Apr      5      4\n",
      "4       May      6      5\n",
      "5       Jun     12      6\n",
      "6       Jul     34      7\n",
      "7       Aug     11      8\n",
      "8       Sep      0      9\n",
      "9       Oct      0     10\n",
      "10      Nov      0     11\n",
      "11      Dec      0     12\n",
      "-----------------------------------------------\n",
      "2021 data is \n",
      "   monthStr  mySum  month\n",
      "0       Jan      2      1\n",
      "4       Feb      0      2\n",
      "5       Mar      0      3\n",
      "6       Apr      0      4\n",
      "7       May      0      5\n",
      "8       Jun      0      6\n",
      "9       Jul      0      7\n",
      "10      Aug      0      8\n",
      "1       Sep      1      9\n",
      "11      Oct      0     10\n",
      "2       Nov     12     11\n",
      "3       Dec     22     12\n"
     ]
    }
   ],
   "source": [
    "# s1 = pd.Series(['Mouse', 'dog', 'house and parrot', '23', np.NaN])\n",
    "# s1.str.contains('og', regex=False)\n",
    "\n",
    "\n",
    "def fillInMonthHole(df):\n",
    "    idx = 1\n",
    "    monthList = ['Jan','Feb','Mar','Apr','May','Jun','Jul','Aug','Sep','Oct','Nov','Dec']\n",
    "    for monthStr in monthList:\n",
    "        #print(df['monthStr']);\n",
    "        if( df['monthStr'].str.contains(monthStr).any() ):\n",
    "            pass\n",
    "        else:\n",
    "            df = df.append({'monthStr' : monthStr , 'mySum' : 0,'month':idx} , ignore_index=True)\n",
    "        idx=idx+1\n",
    "    return df \n",
    "\n",
    "df2020Final= fillInMonthHole(dfYear2020TrimmedRow);\n",
    "df2021Final= fillInMonthHole(dfYear2021TrimmedRow);\n",
    "df2020Final.sort_values(by=['month'], inplace=True)\n",
    "df2021Final.sort_values(by=['month'], inplace=True)\n",
    "\n",
    "print('2020 data is ')\n",
    "print(df2020Final)\n",
    "print('-----------------------------------------------')\n",
    "print('2021 data is ')\n",
    "print(df2021Final)"
   ]
  },
  {
   "cell_type": "code",
   "execution_count": 42,
   "metadata": {},
   "outputs": [
    {
     "data": {
      "image/png": "[encoded data removed]",
      "text/plain": [
       "<Figure size 432x288 with 1 Axes>"
      ]
     },
     "metadata": {
      "needs_background": "light"
     },
     "output_type": "display_data"
    }
   ],
   "source": [
    "plt.plot(df2020Final['monthStr'],df2020Final['mySum'],label = \"2020 Data\")\n",
    "plt.plot(df2021Final['monthStr'],df2021Final['mySum'],label = \"2021 Data\")\n",
    "plt.title('Transaction Statistics')\n",
    "plt.xlabel('Month')\n",
    "plt.ylabel('Count')\n",
    "plt.legend()\n",
    "plt.show()"
   ]
  },
  {
   "cell_type": "markdown",
   "metadata": {},
   "source": [
    "Suggested improvement : \n",
    "year data split dynamically"
   ]
  },
  {
   "cell_type": "code",
   "execution_count": null,
   "metadata": {},
   "outputs": [],
   "source": []
  }
 ],
 "metadata": {
  "kernelspec": {
   "display_name": "Python 3",
   "language": "python",
   "name": "python3"
  },
  "language_info": {
   "codemirror_mode": {
    "name": "ipython",
    "version": 3
   },
   "file_extension": ".py",
   "mimetype": "text/x-python",
   "name": "python",
   "nbconvert_exporter": "python",
   "pygments_lexer": "ipython3",
   "version": "3.8.3"
  }
 },
 "nbformat": 4,
 "nbformat_minor": 4
}
