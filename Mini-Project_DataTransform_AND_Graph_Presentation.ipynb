{
 "cells": [
  {
   "cell_type": "markdown",
   "metadata": {},
   "source": [
    "Simple self test exercise : <br>\n",
    "(1) data cleaning <br>\n",
    "(2) data transformation <br>\n",
    "(3) chart plotting ( line chart ) <br>"
   ]
  },
  {
   "cell_type": "code",
   "execution_count": 29,
   "metadata": {},
   "outputs": [],
   "source": [
    "import datetime as dt\n",
    "import pandas as pd\n",
    "import numpy as np\n",
    "from datetime import datetime\n",
    "import matplotlib.pyplot as plt\n",
    "# the first data is wrong , for now , we just detect and drop it        \n",
    "df = pd.DataFrame({'date': ['00-01-2020','15-01-2020','02-02-2020','03-03-2020','04-04-2020','05-05-2020','06-06-2020','07-07-2020','08-08-2020','01-01-2021','09-09-2021','11-11-2021','12-12-2021'], \n",
    "'count': [10,10,1,4,5,6,12,34,11,2,1,12,22]})\n"
   ]
  },
  {
   "cell_type": "code",
   "execution_count": 31,
   "metadata": {},
   "outputs": [
    {
     "name": "stdout",
     "output_type": "stream",
     "text": [
      "          date  count\n",
      "1   15-01-2020     10\n",
      "2   02-02-2020      1\n",
      "3   03-03-2020      4\n",
      "4   04-04-2020      5\n",
      "5   05-05-2020      6\n",
      "6   06-06-2020     12\n",
      "7   07-07-2020     34\n",
      "8   08-08-2020     11\n",
      "9   01-01-2021      2\n",
      "10  09-09-2021      1\n",
      "11  11-11-2021     12\n",
      "12  12-12-2021     22\n"
     ]
    },
    {
     "data": {
      "text/plain": [
       "pandas.core.frame.DataFrame"
      ]
     },
     "execution_count": 31,
     "metadata": {},
     "output_type": "execute_result"
    }
   ],
   "source": [
    "# STEP I : Data Cleaning \n",
    "def isDateFieldValidSimple(dateStr):\n",
    "    try:\n",
    "        date_object = datetime.strptime(dateStr, '%d-%m-%Y')\n",
    "        #print(\"This is the correct date string format.\")\n",
    "        return True\n",
    "    except ValueError:\n",
    "        #print(\"This is the incorrect date string format:\",dateStr)\n",
    "        return False;\n",
    "    \n",
    "def isDateFieldValidSimple2(row):\n",
    "    try:\n",
    "        date_object = datetime.strptime(row['date'], '%d-%m-%Y')\n",
    "        #print(\"This is the correct date string format.\")\n",
    "        return 0\n",
    "    except ValueError:\n",
    "        #print(\"This is the incorrect date string format:\",dateStr)\n",
    "        return 1;\n",
    "       \n",
    "\n",
    "dfCleaned = df[df['date'].apply(isDateFieldValidSimple) == True];\n",
    "#or df[df.apply(isDateFieldValidSimple2, axis=1)==0]\n",
    "\n",
    "print(dfCleaned)\n",
    "type(dfCleaned)\n",
    "\n"
   ]
  },
  {
   "cell_type": "code",
   "execution_count": 32,
   "metadata": {},
   "outputs": [
    {
     "name": "stdout",
     "output_type": "stream",
     "text": [
      "          date  count  year  month monthStr\n",
      "1   15-01-2020     10  2020      1      Jan\n",
      "2   02-02-2020      1  2020      2      Feb\n",
      "3   03-03-2020      4  2020      3      Mar\n",
      "4   04-04-2020      5  2020      4      Apr\n",
      "5   05-05-2020      6  2020      5      May\n",
      "6   06-06-2020     12  2020      6      Jun\n",
      "7   07-07-2020     34  2020      7      Jul\n",
      "8   08-08-2020     11  2020      8      Aug\n",
      "9   01-01-2021      2  2021      1      Jan\n",
      "10  09-09-2021      1  2021      9      Sep\n",
      "11  11-11-2021     12  2021     11      Nov\n",
      "12  12-12-2021     22  2021     12      Dec\n"
     ]
    },
    {
     "name": "stderr",
     "output_type": "stream",
     "text": [
      "<ipython-input-32-0ba4be540577>:39: SettingWithCopyWarning: \n",
      "A value is trying to be set on a copy of a slice from a DataFrame.\n",
      "Try using .loc[row_indexer,col_indexer] = value instead\n",
      "\n",
      "See the caveats in the documentation: https://pandas.pydata.org/pandas-docs/stable/user_guide/indexing.html#returning-a-view-versus-a-copy\n",
      "  dfCleaned['year'] = dfCleaned['date'].apply(convertDateStrToYear)\n",
      "<ipython-input-32-0ba4be540577>:40: SettingWithCopyWarning: \n",
      "A value is trying to be set on a copy of a slice from a DataFrame.\n",
      "Try using .loc[row_indexer,col_indexer] = value instead\n",
      "\n",
      "See the caveats in the documentation: https://pandas.pydata.org/pandas-docs/stable/user_guide/indexing.html#returning-a-view-versus-a-copy\n",
      "  dfCleaned['month'] = dfCleaned['date'].apply(convertDateStrToMonthDigit)\n",
      "<ipython-input-32-0ba4be540577>:41: SettingWithCopyWarning: \n",
      "A value is trying to be set on a copy of a slice from a DataFrame.\n",
      "Try using .loc[row_indexer,col_indexer] = value instead\n",
      "\n",
      "See the caveats in the documentation: https://pandas.pydata.org/pandas-docs/stable/user_guide/indexing.html#returning-a-view-versus-a-copy\n",
      "  dfCleaned['monthStr'] = dfCleaned['date'].apply(convertDateStrToMonthStr)\n"
     ]
    }
   ],
   "source": [
    "# STEP II , Data transform , assign year and month and monthString column\n",
    "def convertDateStrToYear(dateStr):\n",
    "    date_object = datetime.strptime(dateStr, '%d-%m-%Y')\n",
    "    return date_object.year\n",
    "\n",
    "def convertDateStrToMonthDigit(dateStr):\n",
    "    date_object = datetime.strptime(dateStr, '%d-%m-%Y')\n",
    "    return date_object.month\n",
    "\n",
    "\n",
    "def convertDateStrToMonthStr(dateStr):\n",
    "    date_object = datetime.strptime(dateStr, '%d-%m-%Y')\n",
    "    m = date_object.month\n",
    "    if m == 1: \n",
    "        return 'Jan'\n",
    "    elif m == 2: \n",
    "        return 'Feb'\n",
    "    elif m == 3: \n",
    "        return 'Mar'\n",
    "    elif m == 4: \n",
    "        return 'Apr'\n",
    "    elif m == 5: \n",
    "        return 'May'\n",
    "    elif m == 6: \n",
    "        return 'Jun'\n",
    "    elif m == 7: \n",
    "        return 'Jul'\n",
    "    elif m == 8: \n",
    "        return 'Aug'\n",
    "    elif m == 9: \n",
    "        return 'Sep'\n",
    "    elif m == 10: \n",
    "        return 'Oct'\n",
    "    elif m == 11: \n",
    "        return 'Nov'\n",
    "    else: \n",
    "        return 'Dec'\n",
    "\n",
    "dfCleaned['year'] = dfCleaned['date'].apply(convertDateStrToYear)\n",
    "dfCleaned['month'] = dfCleaned['date'].apply(convertDateStrToMonthDigit)\n",
    "dfCleaned['monthStr'] = dfCleaned['date'].apply(convertDateStrToMonthStr)\n",
    "\n",
    "print(dfCleaned)"
   ]
  },
  {
   "cell_type": "code",
   "execution_count": 43,
   "metadata": {},
   "outputs": [
    {
     "name": "stdout",
     "output_type": "stream",
     "text": [
      "         date  count  year  month monthStr  mySum\n",
      "1  15-01-2020     10  2020      1      Jan     10\n",
      "2  02-02-2020      1  2020      2      Feb      1\n",
      "3  03-03-2020      4  2020      3      Mar      4\n",
      "4  04-04-2020      5  2020      4      Apr      5\n",
      "5  05-05-2020      6  2020      5      May      6\n",
      "6  06-06-2020     12  2020      6      Jun     12\n",
      "7  07-07-2020     34  2020      7      Jul     34\n",
      "8  08-08-2020     11  2020      8      Aug     11\n"
     ]
    },
    {
     "name": "stderr",
     "output_type": "stream",
     "text": [
      "<ipython-input-43-9d6d6eba5cb9>:4: SettingWithCopyWarning: \n",
      "A value is trying to be set on a copy of a slice from a DataFrame.\n",
      "Try using .loc[row_indexer,col_indexer] = value instead\n",
      "\n",
      "See the caveats in the documentation: https://pandas.pydata.org/pandas-docs/stable/user_guide/indexing.html#returning-a-view-versus-a-copy\n",
      "  dfCleaned['mySum'] = dfCleaned.groupby(['year','monthStr'])['count'].transform('sum')\n"
     ]
    }
   ],
   "source": [
    "\n",
    "\n",
    "#dfYear2020 =  dfCleaned[(dfCleaned[\"year\"] == 2020) ]\n",
    "#dfYear2021 =  dfCleaned[(dfCleaned[\"year\"] == 2021) ]\n",
    "#print(dfYear2020)\n",
    "dfCleaned['mySum'] = dfCleaned.groupby(['year','monthStr'])['count'].transform('sum')\n",
    "dfYear2020 =  dfCleaned[(dfCleaned[\"year\"] == 2020) ]\n",
    "dfYear2020.drop_duplicates(subset = [\"month\"])\n",
    "print(dfYear2020);"
   ]
  },
  {
   "cell_type": "code",
   "execution_count": 46,
   "metadata": {},
   "outputs": [
    {
     "data": {
      "image/png": "[encoded data removed]",
      "text/plain": [
       "<Figure size 432x288 with 1 Axes>"
      ]
     },
     "metadata": {
      "needs_background": "light"
     },
     "output_type": "display_data"
    }
   ],
   "source": [
    "plt.plot(dfYear2020['monthStr'],dfYear2020['mySum'])\n",
    "plt.title('2020 Statistics')\n",
    "plt.xlabel('Month')\n",
    "plt.ylabel('Count')\n",
    "plt.show()"
   ]
  },
  {
   "cell_type": "markdown",
   "metadata": {},
   "source": [
    "TODO : <br>\n",
    "(1) Make sure months are in order <br> \n",
    "(2) Fill in Month holes <br>\n",
    "(3) 2020 and 2021 data<br) <br>\n",
    "(4) dynamically split data 2020/2021"
   ]
  },
  {
   "cell_type": "code",
   "execution_count": null,
   "metadata": {},
   "outputs": [],
   "source": []
  }
 ],
 "metadata": {
  "kernelspec": {
   "display_name": "Python 3",
   "language": "python",
   "name": "python3"
  },
  "language_info": {
   "codemirror_mode": {
    "name": "ipython",
    "version": 3
   },
   "file_extension": ".py",
   "mimetype": "text/x-python",
   "name": "python",
   "nbconvert_exporter": "python",
   "pygments_lexer": "ipython3",
   "version": "3.8.3"
  }
 },
 "nbformat": 4,
 "nbformat_minor": 4
}
