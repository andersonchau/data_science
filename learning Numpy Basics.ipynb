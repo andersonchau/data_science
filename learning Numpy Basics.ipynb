{
 "cells": [
  {
   "cell_type": "code",
   "execution_count": 1,
   "metadata": {},
   "outputs": [
    {
     "name": "stdout",
     "output_type": "stream",
     "text": [
      "[[0. 0. 0. 0.]\n",
      " [0. 0. 0. 0.]\n",
      " [0. 0. 0. 0.]]\n",
      "[1. 1. 1. 1.]\n"
     ]
    }
   ],
   "source": [
    "import numpy as np\n",
    "# numpy has vector (1d array) , matrix (2d array)\n",
    "my_list = [1,2,3] # this is python list\n",
    "np.array(my_list) # convert python list to numpy array\n",
    "my_matrix = [[1,2,3],[4,5,6],[7,8,9]] # convert python lists to numpy matrix\n",
    "np.arange(0,10) #  array([0, 1, 2, 3, 4, 5, 6, 7, 8, 9])\n",
    "np.arange(0,11,2) # array([ 0,  2,  4,  6,  8, 10])\n",
    "np.zeros(3) #array([ 0.,  0.,  0.])\n",
    "print(np.zeros((3,4)))\n",
    "print(np.ones(4))\n",
    "np.ones((3,3)) # all 1's \n",
    "np.linspace(0,10,50) # \n",
    "np.eye(3) # Identity Matrix\n",
    "np.random.rand(4) # all elements are [0:1] random\n",
    "np.random.randn(2) # normally distributed with u = 0 , sd =1 \n",
    "np.random.randn(3,4)\n",
    "np.random.randint(1,100) # scaled random number between 1-100\n",
    "np.random.randint(1,100,10) # 10-element array\n",
    "\n",
    "arr = np.arange(25).reshape(5,5)\n"
   ]
  },
  {
   "cell_type": "code",
   "execution_count": 21,
   "metadata": {},
   "outputs": [
    {
     "data": {
      "text/plain": [
       "array([False,  True,  True])"
      ]
     },
     "execution_count": 21,
     "metadata": {},
     "output_type": "execute_result"
    }
   ],
   "source": [
    "arr = np.arange(25).reshape(5,5) # allocate a 25-length array and then make it matrix by 5*5\n",
    "arr \n",
    "# ranarr.max() max value ,ranarr.argmax() index of max value,ranarr.min(),ranarr.argmin()\n",
    "arr.shape\n",
    "arr.dtype # gives data type\n",
    "oneDArray = np.array([3,4,5,6,7])\n",
    "\n",
    "twoDArray = np.array(([3,4,5,6,7],[11,23,44,55,22],[30,40,50,60,70],[33,43,53,63,73]))\n",
    "\n",
    "oneDArray[1] # 4  index starts from zero\n",
    "oneDArray[-1] # 7 last item , -2 for second last item\n",
    "oneDArray[2:4]  # array([5, 6]) , last one exclusive \n",
    "oneDArray[2:4] = 99 # we call this broadcasting\n",
    "\n",
    "oneDArray[:]=99 # all elements\n",
    "arr_copy = arr.copy() # deep copy , = is just shallow copy\n",
    "twoDArray[1] # select the second row [11,23,44,55,22]\n",
    "twoDArray[1][2] # second row , third element = 44\n",
    "twoDArray[1,2] # same as above \n",
    "twoDArray[1,2:4] # same as above [44,55]\n",
    "twoDArray[0:2,2:4] #array([[ 5,  6],[44, 55]])\n",
    "twoDArray[:2,1:]#array([[ 4,  5,  6,  7], [23, 44, 55, 22]])\n",
    "twoDArray[2,:] # select all \n",
    "twoDArray[[0,1]] # select first and second row of the matrix\n",
    "twoDArray[[2,1]] \n",
    "twoDArray.shape #(4,5), no of row twoDArray.shape[0], no of column twoDArray.shape[1]\n",
    "twoDArray[1] =4 # set all elements of row 2 to be 4 \n"
   ]
  },
  {
   "cell_type": "code",
   "execution_count": 23,
   "metadata": {},
   "outputs": [
    {
     "data": {
      "text/plain": [
       "array([7, 8])"
      ]
     },
     "execution_count": 23,
     "metadata": {},
     "output_type": "execute_result"
    }
   ],
   "source": [
    "# Array Selection \n",
    "arr2 = np.array([1,7,8])\n",
    "arr2 > 5 # array([False,  True,  True])\n",
    "arr2[arr2>2] # array([7, 8])\n",
    "\n",
    "\n"
   ]
  },
  {
   "cell_type": "code",
   "execution_count": 26,
   "metadata": {},
   "outputs": [
    {
     "name": "stderr",
     "output_type": "stream",
     "text": [
      "<ipython-input-26-4339b022eeb2>:6: RuntimeWarning: invalid value encountered in true_divide\n",
      "  arr1/arr1\n"
     ]
    },
    {
     "data": {
      "text/plain": [
       "array([nan,  1.,  1.,  1.,  1.,  1.,  1.,  1.,  1.,  1.])"
      ]
     },
     "execution_count": 26,
     "metadata": {},
     "output_type": "execute_result"
    }
   ],
   "source": [
    "import numpy as np\n",
    "arr1 = np.arange(0,10)\n",
    "arr2 = np.arange(10,20)\n",
    "arr2 + arr1 # elementwise addition \n",
    "arr2 * arr1 # elementwise multiplication , \n",
    "arr1/arr1 # elementwise division, nan for div by zero, just warning \n",
    "1/arr # elementwise reciprocal\n",
    "# some maths function np.sqrt(arr)/np.exp(arr)/np.max(arr)/np.sin(arr)/np.log(arr)\n",
    "s"
   ]
  },
  {
   "cell_type": "code",
   "execution_count": 29,
   "metadata": {},
   "outputs": [
    {
     "data": {
      "text/plain": [
       "array([[ 3, 11, 30, 33],\n",
       "       [ 4, 23, 40, 43],\n",
       "       [ 5, 44, 50, 53],\n",
       "       [ 6, 55, 60, 63],\n",
       "       [ 7, 22, 70, 73]])"
      ]
     },
     "execution_count": 29,
     "metadata": {},
     "output_type": "execute_result"
    }
   ],
   "source": [
    "# transpose\n",
    "import numpy as np\n",
    "x = np.array(([3,4,5,6,7],[11,23,44,55,22],[30,40,50,60,70],[33,43,53,63,73]))\n",
    "x.transpose()\n"
   ]
  },
  {
   "cell_type": "code",
   "execution_count": 33,
   "metadata": {},
   "outputs": [
    {
     "data": {
      "text/plain": [
       "array([[ 5, 12],\n",
       "       [21, 32]])"
      ]
     },
     "execution_count": 33,
     "metadata": {},
     "output_type": "execute_result"
    }
   ],
   "source": [
    "# matrix multiplication\n",
    "arr1 = np.array([[1, 2],\n",
    "                 [3, 4]])\n",
    "arr2 = np.array([[5, 6],\n",
    "                 [7, 8]])\n",
    "\n",
    "arr_result = np.multiply(arr1, arr2)\n",
    "arr1*arr2 # elementwise matrix multiplication"
   ]
  },
  {
   "cell_type": "code",
   "execution_count": 49,
   "metadata": {},
   "outputs": [
    {
     "data": {
      "text/plain": [
       "array([[3, 4, 5],\n",
       "       [6, 7, 8]])"
      ]
     },
     "execution_count": 49,
     "metadata": {},
     "output_type": "execute_result"
    }
   ],
   "source": [
    "# Linear Algebra (I) :\n",
    "a = np.empty([3,3]) # another way to initialize an array other than zeros()\n",
    "a1 = np.array([1,2,3])\n",
    "a2 = np.array([4,5,6])\n",
    "np.vstack((a1, a2)) # array([[1, 2, 3],[4, 5, 6]])\n",
    "np.hstack((a1, a2)) # array([1, 2, 3, 4, 5, 6])\n",
    "\n",
    "\n",
    "\n",
    "data = np.array([1,2,3,4])\n",
    "a2 = np.array([4,5,6,7])\n",
    "data.reshape((data.shape[0], 1))  # array([[1],[2],[3],[4]])\n",
    "A = np.array([\n",
    "[1, 2, 3],\n",
    "[4, 5, 6]])\n",
    "A + 2 # elementwise + 2\n"
   ]
  },
  {
   "cell_type": "code",
   "execution_count": 51,
   "metadata": {},
   "outputs": [
    {
     "ename": "AttributeError",
     "evalue": "module 'numpy' has no attribute 'norm'",
     "output_type": "error",
     "traceback": [
      "\u001b[1;31m---------------------------------------------------------------------------\u001b[0m",
      "\u001b[1;31mAttributeError\u001b[0m                            Traceback (most recent call last)",
      "\u001b[1;32m<ipython-input-51-d27615c654a6>\u001b[0m in \u001b[0;36m<module>\u001b[1;34m\u001b[0m\n\u001b[0;32m      6\u001b[0m \u001b[0ma\u001b[0m\u001b[1;33m.\u001b[0m\u001b[0mdot\u001b[0m\u001b[1;33m(\u001b[0m\u001b[0mb\u001b[0m\u001b[1;33m)\u001b[0m \u001b[1;31m# 160 , dot product of vector\u001b[0m\u001b[1;33m\u001b[0m\u001b[1;33m\u001b[0m\u001b[0m\n\u001b[0;32m      7\u001b[0m \u001b[1;33m\u001b[0m\u001b[0m\n\u001b[1;32m----> 8\u001b[1;33m \u001b[0mnp\u001b[0m\u001b[1;33m.\u001b[0m\u001b[0mnorm\u001b[0m\u001b[1;33m(\u001b[0m\u001b[0ma\u001b[0m\u001b[1;33m)\u001b[0m\u001b[1;33m\u001b[0m\u001b[1;33m\u001b[0m\u001b[0m\n\u001b[0m",
      "\u001b[1;32mC:\\ProgramData\\Anaconda3\\lib\\site-packages\\numpy\\__init__.py\u001b[0m in \u001b[0;36m__getattr__\u001b[1;34m(attr)\u001b[0m\n\u001b[0;32m    217\u001b[0m                 \u001b[1;32mreturn\u001b[0m \u001b[0mTester\u001b[0m\u001b[1;33m\u001b[0m\u001b[1;33m\u001b[0m\u001b[0m\n\u001b[0;32m    218\u001b[0m             \u001b[1;32melse\u001b[0m\u001b[1;33m:\u001b[0m\u001b[1;33m\u001b[0m\u001b[1;33m\u001b[0m\u001b[0m\n\u001b[1;32m--> 219\u001b[1;33m                 raise AttributeError(\"module {!r} has no attribute \"\n\u001b[0m\u001b[0;32m    220\u001b[0m                                      \"{!r}\".format(__name__, attr))\n\u001b[0;32m    221\u001b[0m \u001b[1;33m\u001b[0m\u001b[0m\n",
      "\u001b[1;31mAttributeError\u001b[0m: module 'numpy' has no attribute 'norm'"
     ]
    }
   ],
   "source": [
    "# Linear Algebra : Vector \n",
    "a = np.array([1, 2, 3])\n",
    "b = np.array([10,30, 30])\n",
    "a+b # vector addition \n",
    "a*b # vector multiplication (elementwise)\n",
    "a.dot(b) # 160 , dot product of vector \n",
    "\n"
   ]
  },
  {
   "cell_type": "code",
   "execution_count": 53,
   "metadata": {},
   "outputs": [
    {
     "data": {
      "text/plain": [
       "3.7416573867739413"
      ]
     },
     "execution_count": 53,
     "metadata": {},
     "output_type": "execute_result"
    }
   ],
   "source": [
    "from numpy.linalg import norm\n",
    "norm(a) # 3.7416573867739413 \n"
   ]
  },
  {
   "cell_type": "code",
   "execution_count": 67,
   "metadata": {},
   "outputs": [
    {
     "name": "stdout",
     "output_type": "stream",
     "text": [
      "Shapes (3, 3) (3,) (3,)\n",
      "Shapes (2, 3) (3,) (2,)\n"
     ]
    },
    {
     "ename": "AttributeError",
     "evalue": "module 'numpy' has no attribute 'inv'",
     "output_type": "error",
     "traceback": [
      "\u001b[1;31m---------------------------------------------------------------------------\u001b[0m",
      "\u001b[1;31mAttributeError\u001b[0m                            Traceback (most recent call last)",
      "\u001b[1;32m<ipython-input-67-2abd9b58f37f>\u001b[0m in \u001b[0;36m<module>\u001b[1;34m\u001b[0m\n\u001b[0;32m     16\u001b[0m \u001b[1;31m# np.diag(M), makes it a diagonal matrix\u001b[0m\u001b[1;33m\u001b[0m\u001b[1;33m\u001b[0m\u001b[1;33m\u001b[0m\u001b[0m\n\u001b[0;32m     17\u001b[0m \u001b[1;31m# I = np.identity(4)\u001b[0m\u001b[1;33m\u001b[0m\u001b[1;33m\u001b[0m\u001b[1;33m\u001b[0m\u001b[0m\n\u001b[1;32m---> 18\u001b[1;33m \u001b[0mnp\u001b[0m\u001b[1;33m.\u001b[0m\u001b[0minv\u001b[0m\u001b[1;33m(\u001b[0m\u001b[0mA\u001b[0m\u001b[1;33m)\u001b[0m\u001b[1;33m\u001b[0m\u001b[1;33m\u001b[0m\u001b[0m\n\u001b[0m",
      "\u001b[1;32mC:\\ProgramData\\Anaconda3\\lib\\site-packages\\numpy\\__init__.py\u001b[0m in \u001b[0;36m__getattr__\u001b[1;34m(attr)\u001b[0m\n\u001b[0;32m    217\u001b[0m                 \u001b[1;32mreturn\u001b[0m \u001b[0mTester\u001b[0m\u001b[1;33m\u001b[0m\u001b[1;33m\u001b[0m\u001b[0m\n\u001b[0;32m    218\u001b[0m             \u001b[1;32melse\u001b[0m\u001b[1;33m:\u001b[0m\u001b[1;33m\u001b[0m\u001b[1;33m\u001b[0m\u001b[0m\n\u001b[1;32m--> 219\u001b[1;33m                 raise AttributeError(\"module {!r} has no attribute \"\n\u001b[0m\u001b[0;32m    220\u001b[0m                                      \"{!r}\".format(__name__, attr))\n\u001b[0;32m    221\u001b[0m \u001b[1;33m\u001b[0m\u001b[0m\n",
      "\u001b[1;31mAttributeError\u001b[0m: module 'numpy' has no attribute 'inv'"
     ]
    }
   ],
   "source": [
    "A = np.array([[1, 2, 3], [20, 30, 40],[1,2,1]])\n",
    "B = np.array([[1, 2, 3], [0,0,0],[1,3,3]])\n",
    "v = np.array([3,4,5])\n",
    "A+B # basic matrix addition ( elementwise)\n",
    "A * B # elementwise matrix multiplication\n",
    "A.dot(B) # AB \n",
    "\n",
    "A.dot(v) # Av (3*3)(1*3) ? , seems numpy does not differentiate row vector or column vector\n",
    "print(\"Shapes\", A.shape, v.shape, A.dot(v).shape)\n",
    "\n",
    "A = np.array([[1, 2, 3], [20, 30, 40]])\n",
    "\n",
    "print(\"Shapes\", A.shape, v.shape, A.dot(v).shape) \n",
    "\n",
    "\n"
   ]
  },
  {
   "cell_type": "code",
   "execution_count": 77,
   "metadata": {},
   "outputs": [
    {
     "data": {
      "text/plain": [
       "3"
      ]
     },
     "execution_count": 77,
     "metadata": {},
     "output_type": "execute_result"
    }
   ],
   "source": [
    "from numpy.linalg import inv\n",
    "from numpy.linalg import det\n",
    "from numpy.linalg import matrix_rank\n",
    "A = np.array([[1, 2, 3], [20, 30, 40],[1,2,1]])\n",
    "C = np.array([[0,0,0], [0,0,0],[0,0,0]])\n",
    "B = np.array([[1, 2, 3], [20, 30, 40]])\n",
    "# np.tril(A), makes it a lower triangular matrix np.triu(A),\n",
    "# np.diag(M), makes it a diagonal matrix\n",
    "# I = np.identity(4) \n",
    "inv(A) # inverse of matrix A\n",
    "# inv(B) , LinAlgError ( not square)\n",
    "# inv(C) , LinAlgError (singular matrix)\n",
    "A.T # transpose of A\n",
    "np.trace(A) # get the trace(A), summation of diagonals\n",
    "det(A) # get the determinant of A\n",
    "matrix_rank(A) # get the number of rank of matrix A\n"
   ]
  },
  {
   "cell_type": "code",
   "execution_count": null,
   "metadata": {},
   "outputs": [],
   "source": []
  }
 ],
 "metadata": {
  "kernelspec": {
   "display_name": "Python 3",
   "language": "python",
   "name": "python3"
  },
  "language_info": {
   "codemirror_mode": {
    "name": "ipython",
    "version": 3
   },
   "file_extension": ".py",
   "mimetype": "text/x-python",
   "name": "python",
   "nbconvert_exporter": "python",
   "pygments_lexer": "ipython3",
   "version": "3.8.3"
  }
 },
 "nbformat": 4,
 "nbformat_minor": 4
}
