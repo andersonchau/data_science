{
 "cells": [
  {
   "cell_type": "markdown",
   "metadata": {},
   "source": [
    "This project is for practising Python usage and illustrating the concept of Entropy in Decision Tree\n"
   ]
  },
  {
   "cell_type": "code",
   "execution_count": 5,
   "metadata": {},
   "outputs": [],
   "source": [
    "import pandas as pd\n",
    "from sklearn import tree\n",
    "from sklearn.tree import DecisionTreeClassifier\n",
    "import matplotlib.pyplot as plt\n",
    "import matplotlib.image as pltimg\n",
    "import pydotplus"
   ]
  },
  {
   "cell_type": "code",
   "execution_count": 44,
   "metadata": {},
   "outputs": [],
   "source": [
    "data = {\n",
    "        'Gender':['M','M','F','F','M','F','M','F','M','F'],\n",
    "        'Strength':['M','M','M','W','W','W','W','M','M','M'],\n",
    "         'Height':['T', 'T', 'T', 'S','S','S','S','S','S','T'],\n",
    "        'Player':['Yes', 'Yes', 'Yes', 'Yes', 'No', 'No', 'No', 'No', 'No', 'No']} \n",
    "\n",
    "\n",
    "\n",
    "\n"
   ]
  },
  {
   "cell_type": "markdown",
   "metadata": {},
   "source": [
    "P(Player=Yes|Gender=M) = 0.5,P(Player=No|Gender=M) = 0.5 ,P(Player=Yes|Gender=F) = 0.5 ,P(Player=No|Gender=F) = 0.5 \n",
    "P(Player=Yes|Height=T) = 0.54,P(Player=No|Height=T) = 0.25 ,P(Player=Yes|Height=S) = 0.0 ,P(Player=No|Gender=S) = 1\n",
    "TODO : calculate the Entropy here"
   ]
  },
  {
   "cell_type": "code",
   "execution_count": 45,
   "metadata": {},
   "outputs": [],
   "source": [
    "df = pd.DataFrame(data)\n",
    "features = ['Gender', 'Strength', 'Height']\n",
    "results = ['Player']\n",
    "X = df[features]\n",
    "y = df[results]"
   ]
  },
  {
   "cell_type": "markdown",
   "metadata": {},
   "source": [
    "Since SkLearn DT wont accept categorical variable, we use one-hot encoding to make numerical"
   ]
  },
  {
   "cell_type": "code",
   "execution_count": 46,
   "metadata": {},
   "outputs": [
    {
     "name": "stdout",
     "output_type": "stream",
     "text": [
      "   Gender_M  Strength_M  Height_T\n",
      "0         1           1         1\n",
      "1         1           1         1\n",
      "2         0           1         1\n",
      "3         0           0         0\n",
      "4         1           0         0\n",
      "5         0           0         0\n",
      "6         1           0         0\n",
      "7         0           1         0\n",
      "8         1           1         0\n",
      "9         0           1         1\n"
     ]
    }
   ],
   "source": [
    "one_hot_data = pd.get_dummies(X) # https://www.kaggle.com/dansbecker/using-categorical-data-with-one-hot-encoding\n",
    "one_hot_data2 =  one_hot_data[['Gender_M','Strength_M','Height_T']]; # it is just right to use only 3 of them \n",
    "print(one_hot_data2);\n"
   ]
  },
  {
   "cell_type": "code",
   "execution_count": 47,
   "metadata": {},
   "outputs": [
    {
     "data": {
      "text/plain": [
       "[Text(186.0, 190.26, 'X[2] <= 0.5\\nentropy = 0.971\\nsamples = 10\\nvalue = [6, 4]'),\n",
       " Text(111.60000000000001, 135.9, 'X[0] <= 0.5\\nentropy = 0.65\\nsamples = 6\\nvalue = [5, 1]'),\n",
       " Text(74.4, 81.53999999999999, 'X[1] <= 0.5\\nentropy = 0.918\\nsamples = 3\\nvalue = [2, 1]'),\n",
       " Text(37.2, 27.180000000000007, 'entropy = 1.0\\nsamples = 2\\nvalue = [1, 1]'),\n",
       " Text(111.60000000000001, 27.180000000000007, 'entropy = 0.0\\nsamples = 1\\nvalue = [1, 0]'),\n",
       " Text(148.8, 81.53999999999999, 'entropy = 0.0\\nsamples = 3\\nvalue = [3, 0]'),\n",
       " Text(260.40000000000003, 135.9, 'X[0] <= 0.5\\nentropy = 0.811\\nsamples = 4\\nvalue = [1, 3]'),\n",
       " Text(223.20000000000002, 81.53999999999999, 'entropy = 1.0\\nsamples = 2\\nvalue = [1, 1]'),\n",
       " Text(297.6, 81.53999999999999, 'entropy = 0.0\\nsamples = 2\\nvalue = [0, 2]')]"
      ]
     },
     "execution_count": 47,
     "metadata": {},
     "output_type": "execute_result"
    },
    {
     "data": {
      "image/png": "[encoded data removed]",
      "text/plain": [
       "<Figure size 432x288 with 1 Axes>"
      ]
     },
     "metadata": {
      "needs_background": "light"
     },
     "output_type": "display_data"
    }
   ],
   "source": [
    "\n",
    "dtree = DecisionTreeClassifier(criterion='entropy')\n",
    "dtree = dtree.fit(one_hot_data2, y)\n",
    "tree.plot_tree(dtree) "
   ]
  },
  {
   "cell_type": "markdown",
   "metadata": {},
   "source": [
    "We can see it use X[2] (Height), X[0] then use (Strength), then use X[1] (Gender) to make decision.<br>\n"
   ]
  },
  {
   "cell_type": "code",
   "execution_count": null,
   "metadata": {
    "scrolled": true
   },
   "outputs": [],
   "source": []
  },
  {
   "cell_type": "code",
   "execution_count": null,
   "metadata": {},
   "outputs": [],
   "source": []
  }
 ],
 "metadata": {
  "kernelspec": {
   "display_name": "Python 3",
   "language": "python",
   "name": "python3"
  },
  "language_info": {
   "codemirror_mode": {
    "name": "ipython",
    "version": 3
   },
   "file_extension": ".py",
   "mimetype": "text/x-python",
   "name": "python",
   "nbconvert_exporter": "python",
   "pygments_lexer": "ipython3",
   "version": "3.8.3"
  }
 },
 "nbformat": 4,
 "nbformat_minor": 4
}
