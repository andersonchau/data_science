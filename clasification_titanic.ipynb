{
  "nbformat": 4,
  "nbformat_minor": 0,
  "metadata": {
    "colab": {
      "provenance": []
    },
    "kernelspec": {
      "name": "python3",
      "display_name": "Python 3"
    },
    "language_info": {
      "name": "python"
    }
  },
  "cells": [
    {
      "cell_type": "code",
      "execution_count": 12,
      "metadata": {
        "colab": {
          "base_uri": "https://localhost:8080/"
        },
        "id": "PvZCulJEQRI3",
        "outputId": "edb9d6ca-1fd8-4c5c-fc7f-2ec18c494f9c"
      },
      "outputs": [
        {
          "output_type": "stream",
          "name": "stdout",
          "text": [
            "Logisitic Regression\n",
            "              precision    recall  f1-score   support\n",
            "\n",
            "           0       0.80      0.85      0.83       106\n",
            "           1       0.76      0.69      0.72        72\n",
            "\n",
            "    accuracy                           0.79       178\n",
            "   macro avg       0.78      0.77      0.78       178\n",
            "weighted avg       0.78      0.79      0.78       178\n",
            "\n",
            " accurracy LR 0.7865168539325843\n",
            "Support Vector Machine\n",
            "Accuracy with rbf kernel: 0.80\n",
            "Classification Report:\n",
            "              precision    recall  f1-score   support\n",
            "\n",
            "           0       0.81      0.86      0.83       106\n",
            "           1       0.77      0.71      0.74        72\n",
            "\n",
            "    accuracy                           0.80       178\n",
            "   macro avg       0.79      0.78      0.79       178\n",
            "weighted avg       0.80      0.80      0.80       178\n",
            "\n"
          ]
        }
      ],
      "source": [
        "import pandas as pd\n",
        "import numpy as np\n",
        "from sklearn.model_selection import train_test_split\n",
        "from sklearn.linear_model import LogisticRegression\n",
        "from sklearn.metrics import classification_report\n",
        "from sklearn.metrics import confusion_matrix\n",
        "from sklearn.metrics import accuracy_score\n",
        "from sklearn import preprocessing\n",
        "\n",
        "from sklearn.preprocessing import StandardScaler\n",
        "from sklearn.svm import SVC\n",
        "#url = 'https://github.com/datasciencedojo/datasets/blob/master/titanic.csv'\n",
        "\n",
        "df = pd.read_csv('drive/MyDrive/titanic.csv');\n",
        "\n",
        "#print(df.describe())\n",
        "\n",
        "# Data Preprocessing [1] : Impute average age\n",
        "ageCol = df['Age'].to_numpy();\n",
        "ageCol = ageCol[~np.isnan(ageCol)];\n",
        "ageAvg = np.mean(ageCol);\n",
        "# print(f\"Average age of data is {ageAvg}\")\n",
        "\n",
        "df['Age'].fillna(ageAvg)\n",
        "\n",
        "\n",
        "\n",
        "# Data Preprocessing [12] : Impute average age\n",
        "label_encoder = preprocessing.LabelEncoder();\n",
        "df['Sex']= label_encoder.fit_transform(df['Sex'])\n",
        "\n",
        "# Data Preprocessing [2] : Remove Name\n",
        "X = df.drop(['Survived','Name','Siblings/Spouses Aboard','Parents/Children Aboard'],axis=1)\n",
        "Y = df['Survived']\n",
        "\n",
        "#print(\"type of X is\" , type(X))\n",
        "#print(\"type of Y is\" , type(Y))\n",
        "X_train, X_test, y_train, y_test = train_test_split(X, Y, test_size=0.2,random_state=1)\n",
        "\n",
        "\n",
        "# Use Logistic Regression\n",
        "print(\"Logisitic Regression\")\n",
        "lr = LogisticRegression(solver='liblinear')\n",
        "\n",
        "lr.fit(X_train,y_train)\n",
        "predictions = lr.predict(X_test)\n",
        "print(classification_report(y_test,predictions))\n",
        "confusion_matrix(y_test,predictions)\n",
        "print( f\" accurracy LR {accuracy_score(y_test, predictions)}\" )\n",
        "\n",
        "# Use Support Vector Machine\n",
        "print(\"Support Vector Machine\")\n",
        "scaler = StandardScaler()\n",
        "X_train = scaler.fit_transform(X_train)\n",
        "X_test = scaler.transform(X_test)\n",
        "kernelType  = 'rbf'\n",
        "svm = SVC(kernel='rbf', random_state=42)\n",
        "\n",
        "# Train the model\n",
        "svm.fit(X_train, y_train)\n",
        "\n",
        "# Make predictions on the test set\n",
        "y_pred = svm.predict(X_test)\n",
        "\n",
        "accuracy = accuracy_score(y_test, y_pred)\n",
        "print(f\"Accuracy with {kernelType} kernel: {accuracy:.2f}\")\n",
        "print(\"Classification Report:\")\n",
        "print(classification_report(y_test, y_pred))\n"
      ]
    }
  ]
}