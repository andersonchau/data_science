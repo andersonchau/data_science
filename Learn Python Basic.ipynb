{
 "cells": [
  {
   "cell_type": "code",
   "execution_count": 21,
   "metadata": {},
   "outputs": [
    {
     "name": "stdout",
     "output_type": "stream",
     "text": [
      "Hello world testing,sep=\"*\"\n",
      "First number is 10 and second number is 20\n",
      "15\n",
      "200\n",
      "1. 3.1415 appears b times.\n",
      "1. Hello appears 42 times\n",
      "10. abc appears times.\n",
      "a b\n",
      "a*b\n"
     ]
    }
   ],
   "source": [
    "# PRINTING \n",
    "\n",
    "str1 = 'testing,sep=\"*\"'\n",
    "first = 10\n",
    "second = 20\n",
    "i = 10\n",
    "key = 'abc'\n",
    "print('Hello world ' + str1 ) # but cannot concat data type other than string\n",
    "print(\"First number is {} and second number is {}\".format(first, second))\n",
    "print(5 + 10)\n",
    "print(first*second)\n",
    "print (\"{0}. {2} appears {1} times.\".format(1, 'b', 3.1415))\n",
    "print (\"{index}. {word} appears {count} times\".format(index=1, word='Hello', count=42))\n",
    "print(\"%s. %s appears times.\" % (str(i), key))\n",
    "print(\"a\",\"b\")\n",
    "print(\"a\",\"b\",sep=\"*\")"
   ]
  },
  {
   "cell_type": "code",
   "execution_count": 17,
   "metadata": {},
   "outputs": [
    {
     "name": "stdout",
     "output_type": "stream",
     "text": [
      "True\n",
      "llo\n",
      "16\n",
      "['Hello', ' World!ABC']\n",
      "llo, World!ABC\n",
      "Hello abc : 10\n"
     ]
    }
   ],
   "source": [
    "# String operations \n",
    "\n",
    "b1 = \"Hello, World!\"\n",
    "b0 = \"Hello, World!\"\n",
    "print(b1==b0) # true here (String comparision)\n",
    "b2 = 'Hong Kong'\n",
    "b3 = b1 + b2\n",
    "b1 += 'ABC'  # String append\n",
    "i1 = 10\n",
    "end = None\n",
    "newstr = \" \".join((b1, b2))\n",
    "print(b1[2:5]) # first index -> start from zero, inclusive , second index -> start from zero, exclusive\n",
    "print(len(b1))\n",
    "print(b1.split(\",\")) # returns ['Hello', ' World!']\n",
    "print(b1[2:end])\n",
    "print('Hello abc : ' + str(i1)) #　appending string and Integer\n",
    "try: # convert string to integer \n",
    "    num = int('123')\n",
    "except ValueError:\n",
    "    print('String conversion failure')\n",
    "str = str(120) # convert integer to String\n"
   ]
  },
  {
   "cell_type": "code",
   "execution_count": 31,
   "metadata": {},
   "outputs": [
    {
     "name": "stdout",
     "output_type": "stream",
     "text": [
      "printing from the def:  Bob\n"
     ]
    },
    {
     "data": {
      "text/plain": [
       "'Bob'"
      ]
     },
     "execution_count": 31,
     "metadata": {},
     "output_type": "execute_result"
    }
   ],
   "source": [
    "# Functions \n",
    "\n",
    "def printBob():\n",
    "   name = 'Bob'  # define name in function\n",
    "   print('printing from the def: ', name)  # print from function \n",
    "   return name \n",
    "\n",
    "\n",
    "def f(x, y=7):\n",
    "    z = 2 * (x + y)\n",
    "    return z\n",
    "\n",
    "f(3)\n",
    "printBob()"
   ]
  },
  {
   "cell_type": "code",
   "execution_count": 16,
   "metadata": {},
   "outputs": [
    {
     "name": "stdout",
     "output_type": "stream",
     "text": [
      "too low\n"
     ]
    }
   ],
   "source": [
    "# Conditionals \n",
    "\n",
    "n = 10\n",
    "if n>=1 and n<=10:\n",
    "    print(\"too low\");\n",
    "elif n>=11 and n<=20:\n",
    "    print(\"medium\");   \n",
    "else:\n",
    "    print(\"too large\")"
   ]
  },
  {
   "cell_type": "code",
   "execution_count": 15,
   "metadata": {},
   "outputs": [
    {
     "name": "stdout",
     "output_type": "stream",
     "text": [
      "a\n",
      "b\n",
      "c\n"
     ]
    }
   ],
   "source": [
    "# Loop \n",
    "\n",
    "word=\"abc\"\n",
    "for letter in word:\n",
    "    print (letter)\n",
    "words= [\"Apple\", \"Banana\", \"Car\", \"Dolphin\" ]\n",
    "for word in words:\n",
    "    print (word)\n",
    "    \n",
    "even_nums = [2, 4, 6, 8] \n",
    "for x in even_nums: # to traverse a list\n",
    "        if x % 2 != 0:\n",
    "            break \n",
    "\n"
   ]
  },
  {
   "cell_type": "code",
   "execution_count": 20,
   "metadata": {},
   "outputs": [
    {
     "name": "stdout",
     "output_type": "stream",
     "text": [
      "Person list is [['Marc', 'Mayer'], ['17, Oxford Str', '12345', 'London'], '07876-7876']\n",
      "myList2 is [1, 2, 3, 'a', ['Perl', 'Java', 1, 2, 3, 5]]\n"
     ]
    }
   ],
   "source": [
    "# List data structure \n",
    "\n",
    "myList = [1,2,3,5] \n",
    "myList2 = [1,2,3,'a'] # list can contain heterogeneous elements \n",
    "person = [[\"Marc\", \"Mayer\"], [\"17, Oxford Str\", \"12345\", \"London\"], \"07876-7876\"] # list can contain list \n",
    "print('Person list is' , person) # printing of list\n",
    "iamFirstElement = myList[0]\n",
    "iamMarc = person[0][0]\n",
    "person[0][0] = 'sssss'\n",
    "IamTheLastElement = myList[-1]\n",
    "t = (\"tuples\", \"are\", \"immutable\") # tuple is an immutable list\n",
    "IamTuples = t[0] \n",
    "lenOfListIsFour = len(myList) # length of list\n",
    "myList.insert(0, \"Perl\") # insert as first element of the list\n",
    "myList.insert(1, \"Java\") # insert as second element of the list\n",
    "myList.append(\"Haskell\") # Append an element to the end of the list\n",
    "IamHaskell = myList.pop() # remove the last element\n",
    "myList2.append(myList) ## NOTE: this just appending as ONE element which is a list to the original list.\n",
    "myList2.extend(myList) # use extend() to append list \n",
    "myList3 = myList + myList2 # same as above extend() \n",
    "first_three = myList[0:3] # first 3 elements of the list\n",
    "first_three2 = myList[:3] # same another first 3 elements of the list\n",
    "all_but_last_two = myList[:-2]\n",
    "myList.remove(1) # remove  element having element with value 1 , if there is no such error, then ValueError exception isthrown\n",
    "\n"
   ]
  },
  {
   "cell_type": "code",
   "execution_count": 29,
   "metadata": {},
   "outputs": [
    {
     "name": "stdout",
     "output_type": "stream",
     "text": [
      "Anderson\n",
      "Kim\n",
      "John is not in dict1\n"
     ]
    }
   ],
   "source": [
    "# Dictionary data structure \n",
    "dictionary = {} # create an empty dd\n",
    "\n",
    "dict1 = {\"Anderson\":1111,\n",
    "                   \"Kim\": 324123}\n",
    "\n",
    "for key in dict1: # print all keys\n",
    "     print(key) \n",
    "\n",
    "dict1[\"Jason\"] = 39009 # add another entry in dictionary\n",
    "dict1.pop(\"Jason\") # remove the key and valid with \"Jason\", if no such key , KeyError is thrown \n",
    "dict1[\"Anderson\"]\n",
    "# Accessing an non-existence key will cause keyError exception\n",
    "\n",
    "nameKey = \"John\" \n",
    "if nameKey in dict1: # can use in to avoid the error\n",
    "    print(dict1[nameKey])\n",
    "else:\n",
    "    print(nameKey + \" is not in dict1\")\n",
    "dict1.get(nameKey) # this will not return an error, \n",
    "\n",
    "dict2 = dict1.copy() # only simple values are copied, complicated values are pointers.d\n",
    "dict2.update(dict1) # merge \n",
    "dict2.clear() # empty all \n",
    "dict2.update(dict1) # merge dict1 to dict2 , with duplicated key overwritten \n",
    "\n",
    "\n",
    "# convert keys/values to a list\n",
    "allKeys = dict1.keys() \n",
    "allValues = dict1.values()\n",
    "keyList1 = list(allKeys)\n",
    "valueList1 = list(allValues)\n",
    "\n",
    "\n",
    "\n"
   ]
  },
  {
   "cell_type": "code",
   "execution_count": null,
   "metadata": {},
   "outputs": [],
   "source": [
    "\n",
    "import sys\n",
    "# example of exception Handling \n",
    "#try:\n",
    "#    f = open('integers.txt')\n",
    "#    s = f.readline()\n",
    "#    i = int(s.strip())\n",
    "#except IOError as e:\n",
    "#    errno, strerror = e.args\n",
    "#    print(\"I/O error({0}): {1}\".format(errno,strerror))\n",
    "#    # e can be printed directly without using .args:\n",
    "    # print(e)\n",
    "#except ValueError:\n",
    "#    print(\"No valid integer in line.\")\n",
    "#except:\n",
    "#    print(\"Unexpected error:\", sys.exc_info()[0])\n",
    "# raise  # generate exception again , or raise a new exception \n",
    "#finally:\n",
    "#    print(\"There may or may not have been an exception.\")\n",
    "########################################################################\n",
    "\n",
    "#class MyException(Exception):\n",
    "#    pass\n",
    "#\n",
    "#raise MyException(\"An exception doesn't always prove the rule!\")\n",
    "\n"
   ]
  }
 ],
 "metadata": {
  "kernelspec": {
   "display_name": "Python 3",
   "language": "python",
   "name": "python3"
  },
  "language_info": {
   "codemirror_mode": {
    "name": "ipython",
    "version": 3
   },
   "file_extension": ".py",
   "mimetype": "text/x-python",
   "name": "python",
   "nbconvert_exporter": "python",
   "pygments_lexer": "ipython3",
   "version": "3.8.3"
  }
 },
 "nbformat": 4,
 "nbformat_minor": 4
}
